{
 "cells": [
  {
   "cell_type": "code",
   "execution_count": 1,
   "metadata": {},
   "outputs": [],
   "source": [
    "from collections import namedtuple"
   ]
  },
  {
   "cell_type": "markdown",
   "metadata": {},
   "source": [
    "1. Download url\n",
    "2. Download folder (compressed)\n",
    "3. Extract filder (uncompressed)\n",
    "4. Train Dataset folder\n",
    "5. Test Dataset folder"
   ]
  },
  {
   "cell_type": "code",
   "execution_count": 2,
   "metadata": {},
   "outputs": [],
   "source": [
    "DataIngestionConfig = namedtuple('DataIngestionConfig', \n",
    "                                [\"datase_download_url\",\"tgz_download_dir\",\"raw_data_dir\",\"ingested_train_dir\",\n",
    "                                \"ingested_test_dir\"])"
   ]
  },
  {
   "cell_type": "code",
   "execution_count": 4,
   "metadata": {},
   "outputs": [],
   "source": [
    "data_ingestion_config = DataIngestionConfig(datase_download_url='fhfhfh', \n",
    "                    tgz_download_dir='asdfdsf',\n",
    "                    raw_data_dir='jklk',\n",
    "                    ingested_train_dir='fhyt',\n",
    "                    ingested_test_dir='tweryu')"
   ]
  },
  {
   "cell_type": "code",
   "execution_count": 5,
   "metadata": {},
   "outputs": [
    {
     "data": {
      "text/plain": [
       "DataIngestionConfig(datase_download_url='fhfhfh', tgz_download_dir='asdfdsf', raw_data_dir='jklk', ingested_train_dir='fhyt', ingested_test_dir='tweryu')"
      ]
     },
     "execution_count": 5,
     "metadata": {},
     "output_type": "execute_result"
    }
   ],
   "source": [
    "data_ingestion_config"
   ]
  },
  {
   "cell_type": "code",
   "execution_count": null,
   "metadata": {},
   "outputs": [],
   "source": []
  }
 ],
 "metadata": {
  "kernelspec": {
   "display_name": "Python 3.7.13 (conda)",
   "language": "python",
   "name": "python3"
  },
  "language_info": {
   "codemirror_mode": {
    "name": "ipython",
    "version": 3
   },
   "file_extension": ".py",
   "mimetype": "text/x-python",
   "name": "python",
   "nbconvert_exporter": "python",
   "pygments_lexer": "ipython3",
   "version": "3.7.13"
  },
  "orig_nbformat": 4,
  "vscode": {
   "interpreter": {
    "hash": "2c704dca919e8af6924916ab84cbb1ccaa80a2f95dc6ecaf6c184ac283284094"
   }
  }
 },
 "nbformat": 4,
 "nbformat_minor": 2
}
